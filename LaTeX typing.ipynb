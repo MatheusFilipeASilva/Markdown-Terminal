{
 "cells": [
  {
   "cell_type": "markdown",
   "id": "4e2fc7a5-52b6-4b8d-9c98-e3424226e701",
   "metadata": {},
   "source": [
    "## Fórmula de Bháskara ##"
   ]
  },
  {
   "cell_type": "markdown",
   "id": "03ef6b84-d363-4c54-b76e-66ae9a942552",
   "metadata": {},
   "source": [
    "A solução para uma função do segundo grau depende única e exclusivamente dos seus coeficientes. Como já vimos, os coeficientes precisam ser números reais, e o angular diferente de zero. Sendo assim, temos a seguinte fórmula de Bháskara:\n",
    "$$ {\\LARGE x = \\frac{-b \\pm \\sqrt(b^2 -4.a.c)}{2.a}} $$"
   ]
  },
  {
   "cell_type": "markdown",
   "id": "de28f206-edae-478c-bf05-6e17d27adcc8",
   "metadata": {},
   "source": [
    "Para melhor compreensão, o seu cálculo é dividido em duas partes:  discriminante da equação e operações para determinaras raízes.\n"
   ]
  },
  {
   "cell_type": "markdown",
   "id": "e60399da-ec46-48c0-ba53-fefc665905c6",
   "metadata": {},
   "source": [
    "## Discriminante: ##"
   ]
  },
  {
   "cell_type": "markdown",
   "id": "f1727353-32b7-4e06-be2f-85f8416fc542",
   "metadata": {},
   "source": [
    "A figura dentro da raíz na fórmula de Bháskara é nomeada discriminante. Seu símbolo é a letra grega \"delta\" maíuscula, e apresenta a seguinte forma:\n",
    "$$ {\\Huge \\Delta = b^2-4.a.c} $$"
   ]
  },
  {
   "cell_type": "markdown",
   "id": "cee9089b-0e42-46b4-b48d-5ff3172054e3",
   "metadata": {},
   "source": [
    "- Se o delta for maior que zero, a equação tem dois valores reais distintos.\n",
    "- Se o delta for igual a zero, a equação terá somente um valor real ou dois resultados iguais.\n",
    "- Se o delta for menor que zero, a equação não possuirá valores reais."
   ]
  },
  {
   "cell_type": "code",
   "execution_count": null,
   "id": "e018b264-5657-4d8c-98c3-8c12ab831f43",
   "metadata": {},
   "outputs": [],
   "source": []
  }
 ],
 "metadata": {
  "kernelspec": {
   "display_name": "Python 3 (ipykernel)",
   "language": "python",
   "name": "python3"
  },
  "language_info": {
   "codemirror_mode": {
    "name": "ipython",
    "version": 3
   },
   "file_extension": ".py",
   "mimetype": "text/x-python",
   "name": "python",
   "nbconvert_exporter": "python",
   "pygments_lexer": "ipython3",
   "version": "3.12.4"
  }
 },
 "nbformat": 4,
 "nbformat_minor": 5
}
